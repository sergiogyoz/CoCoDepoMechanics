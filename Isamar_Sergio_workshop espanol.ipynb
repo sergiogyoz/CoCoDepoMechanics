{
 "cells": [
  {
   "cell_type": "markdown",
   "metadata": {},
   "source": [
    "# Depositional mechanics with python\n",
    "\n",
    "Hoy aprenderemos como usar python para simular un modelo 2D de deposicion/erosion en un rio\n",
    "\n",
    "Las librerias que usaremos son `numpy, maplotlib, seaborn, pandas`.\n",
    "\n",
    "Las [slides para la presentacion estan aqui](https://docs.google.com/presentation/d/12Kx96Auxgq_vJuZCQK21aLqQSgJL3AkN/edit?usp=sharing&ouid=118190230180154301607&rtpof=true&sd=true)\n",
    "\n",
    "Las herramientas que nesecitamos:\n",
    "1. Un heatmap para mostrar las diferencias de elevacion en la superficie.\n",
    "2. Un campo vectorial para representar el flujo de sedimento. "
   ]
  },
  {
   "cell_type": "code",
   "execution_count": null,
   "metadata": {},
   "outputs": [],
   "source": [
    "import numpy as np\n",
    "import matplotlib.pyplot as plt\n",
    "import seaborn as sns\n",
    "import pandas as pd"
   ]
  },
  {
   "cell_type": "markdown",
   "metadata": {},
   "source": [
    "\n",
    "***\n",
    "\n",
    "### Creating a heatmap with seaborn\n",
    "Un heatmap es una grafico en 2D que usa color para representar una tercera dimension. Un ejemplo se ve asi"
   ]
  },
  {
   "cell_type": "code",
   "execution_count": null,
   "metadata": {},
   "outputs": [],
   "source": [
    "heat=[\n",
    "    [0,1,2,3,4],\n",
    "    [5,6,7,8,9],\n",
    "    [10,11,12,13,14]]\n",
    "\n",
    "sns.heatmap(heat)"
   ]
  },
  {
   "cell_type": "markdown",
   "metadata": {},
   "source": [
    "## Question 1 (Class Discussion):\n",
    "\n",
    "Porque estoy definiendo la variable \"heat\"?"
   ]
  },
  {
   "cell_type": "markdown",
   "metadata": {},
   "source": [
    "### Using online documentation to edit our heatplot\n",
    "Podemos jugar con el estilo de la grafica usando la documentacion de seaborn y ejemplos en linea"
   ]
  },
  {
   "cell_type": "code",
   "execution_count": null,
   "metadata": {},
   "outputs": [],
   "source": [
    "sns.heatmap(\n",
    "    data=heat,\n",
    "    annot=True,  #muestra los numeros\n",
    "    cmap=\"viridis\",  #usa el color map viridis\n",
    "    linewidths=1,  #ancho de linea entre bloques\n",
    "    square=True,  # hace cuadradas las celdas \n",
    "     )\n",
    "plt.show()"
   ]
  },
  {
   "cell_type": "markdown",
   "metadata": {},
   "source": [
    "#### Problem 1:\n",
    "Has un heatmap de tamanio 3 por 3 con un \"hot center\" y uno de 4 por 4 con el color map \"cubehelix\""
   ]
  },
  {
   "cell_type": "code",
   "execution_count": null,
   "metadata": {},
   "outputs": [],
   "source": [
    "#Do it here!\n",
    "\n",
    "\n"
   ]
  },
  {
   "cell_type": "markdown",
   "metadata": {},
   "source": [
    "\n",
    "***\n",
    "\n",
    "### Formating data for input on heatmap\n",
    "Los graficos en 2D usan una o 3 matrices como entrada. Hemos visto que pasa si le damos solo una matriz. Si en vez de esto le damos 3, requerira:\n",
    "\n",
    "- Los $X$ values, \n",
    "- Los $Y$ values y,\n",
    "- Los $heat(X,Y)$ values.\n",
    "\n",
    "Antes de que hagamos eso, comencemos haciendo matrices mas grandes para $X$ e $Y$."
   ]
  },
  {
   "cell_type": "code",
   "execution_count": null,
   "metadata": {},
   "outputs": [],
   "source": [
    "# Primero definimos el rango de los valores de X e Y\n",
    "xrange=np.arange(0,3,0.5) # Que hace np.arange?\n",
    "yrange=np.arange(0,10,5)\n",
    "\n",
    "# Luego los volvemos matrices\n",
    "X,Y=np.meshgrid(xrange,yrange)\n",
    "\n",
    "print(X)\n",
    "sns.heatmap(X)\n",
    "plt.show()\n",
    "\n",
    "print(Y)\n",
    "sns.heatmap(Y)\n",
    "plt.show()"
   ]
  },
  {
   "cell_type": "markdown",
   "metadata": {},
   "source": [
    "Ahora que tenemos las coordenadas haremos una funcion para el heatmap"
   ]
  },
  {
   "cell_type": "code",
   "execution_count": null,
   "metadata": {},
   "outputs": [],
   "source": [
    "# Recuerda que las funciones se definen con def\n",
    "def James(xmatrix,ymatrix):\n",
    "    return xmatrix+ymatrix #Suma las matrices\n",
    "\n",
    "# Hacemos el \"heat\" usando las coordenadas X e Y\n",
    "Z=James(X,Y)\n",
    "\n",
    "print(Z)\n",
    "sns.heatmap(Z)\n",
    "plt.show()"
   ]
  },
  {
   "cell_type": "markdown",
   "metadata": {},
   "source": [
    "eso esta bueno y todo, pero esos ejes no son $X$ e $Y$. Para resolver esto vamos a usar un dataframe para hacer un pivot table"
   ]
  },
  {
   "cell_type": "code",
   "execution_count": null,
   "metadata": {},
   "outputs": [],
   "source": [
    "#Hacemos un diccionario  X, Y, Z values y darselo a un pandas df\n",
    "Zdf=pd.DataFrame( {\"x\": X.flatten() ,\"y\":Y.flatten(),\"z\": Z.flatten()} );\n",
    "display(Zdf)\n",
    "\n",
    "# has una pivot table... porque pues toca\n",
    "heat=Zdf.pivot_table(columns=\"x\",index=\"y\",values=\"z\")\n",
    "\n",
    "#muestra la grafica\n",
    "sns.heatmap(heat)\n",
    "plt.show()"
   ]
  },
  {
   "cell_type": "markdown",
   "metadata": {},
   "source": [
    "#### Problem 2\n",
    "Has la funcion \"heat\" definida por \n",
    "$$h=elevation(x,y)=100+2x-y$$ \n",
    "en el rango $20<x<30$ y $200<y<300$. (usa el tamanio de grilla que te paresca apropiado)"
   ]
  },
  {
   "cell_type": "code",
   "execution_count": null,
   "metadata": {},
   "outputs": [],
   "source": [
    "#Aqui hay unos pasos para seguir si no sabes por donde comenzar\n",
    "#1 Haz una grilla/mesh para el rando indicado\n",
    "\n",
    "\n",
    "\n",
    "#2 Define tu funcion y guarda en una variable tus valores de heat\n",
    "\n",
    "\n",
    "\n",
    "#3 Haz el df y la pivot table\n",
    "\n",
    "\n",
    "\n",
    "#4 Muestra tus resultados! \n",
    "\n",
    "\n"
   ]
  },
  {
   "cell_type": "markdown",
   "metadata": {},
   "source": [
    "***\n",
    "### Vector fields with quiver\n",
    "Bueno, que pasa si quieres poner una flecha en cada punto? a.k.a. un campo vectorial. En ese caso nesecitas la ubicacion $(x,y)$ de la flecha con direcion $(u,v)$.\n",
    "\n",
    "Comencemos haciendo las componentes en $X$ e $Y$\n",
    "Lets start by making the $X$ and $Y$ components as before"
   ]
  },
  {
   "cell_type": "code",
   "execution_count": null,
   "metadata": {},
   "outputs": [],
   "source": [
    "xrange=np.arange(0,10,0.5)\n",
    "yrange=np.arange(0,5,0.5)\n",
    "\n",
    "X,Y=np.meshgrid(xrange,yrange)"
   ]
  },
  {
   "cell_type": "markdown",
   "metadata": {},
   "source": [
    "now we define the $U$ and $V$ components of the vector field"
   ]
  },
  {
   "cell_type": "code",
   "execution_count": null,
   "metadata": {},
   "outputs": [],
   "source": [
    "#define functions of the vector at every (x,y) location\n",
    "def Ucomp(xmatrix,ymatrix):\n",
    "    return xmatrix\n",
    "\n",
    "def Vcomp(xmatrix,ymatrix):\n",
    "    return ymatrix*0\n",
    "\n",
    "#assing them\n",
    "U=Ucomp(X,Y)\n",
    "V=Vcomp(X,Y)"
   ]
  },
  {
   "cell_type": "markdown",
   "metadata": {},
   "source": [
    "finally, make a vector field with the `quiver` function"
   ]
  },
  {
   "cell_type": "code",
   "execution_count": null,
   "metadata": {},
   "outputs": [],
   "source": [
    "axis=plt.quiver(X,Y,U,V)\n",
    "plt.show()"
   ]
  },
  {
   "cell_type": "markdown",
   "metadata": {},
   "source": [
    "#### Problem 3\n",
    "Make a vector field of arrows poiting up. (feel free to pick any range)"
   ]
  },
  {
   "cell_type": "code",
   "execution_count": null,
   "metadata": {},
   "outputs": [],
   "source": [
    "#Create vector field here\n",
    "\n",
    "\n"
   ]
  },
  {
   "cell_type": "markdown",
   "metadata": {},
   "source": [
    "***\n",
    "### Exner equation: erosion and deposition of sediment\n",
    "\n",
    "Acording to wikipedia: \n",
    "\n",
    "&emsp; \"The Exner equation describes conservation of mass between sediment in the bed of a channel and sediment that is being transported\"\n",
    "\n",
    "$$ \\frac{\\partial \\eta}{\\partial t}=-\\frac{1}{\\varepsilon_0}\\nabla\\cdot q_s$$\n",
    "\n",
    "where $\\eta(x,y)=\\eta$ is the elevation and $q_s(x,y)=(U_q,V_q)$ is the vector field of sediment flux."
   ]
  },
  {
   "cell_type": "markdown",
   "metadata": {},
   "source": [
    "We will try to undestand deposition and erosion on a flat surface where the sediment flux is changing. We will use our old range and make a new sediment flux"
   ]
  },
  {
   "cell_type": "code",
   "execution_count": null,
   "metadata": {},
   "outputs": [],
   "source": [
    "#define functions of the vector at every (x,y) location\n",
    "def Uflux(xmatrix,ymatrix):\n",
    "    return np.sin(xmatrix)*2\n",
    "    \n",
    "def Vflux(xmatrix,ymatrix):\n",
    "    return ymatrix/3\n",
    "\n",
    "#assing them\n",
    "U=Uflux(X,Y)\n",
    "V=Vflux(X,Y)\n",
    "\n",
    "plt.quiver(X,Y,U,V,scale=30)\n",
    "plt.show()"
   ]
  },
  {
   "cell_type": "markdown",
   "metadata": {},
   "source": [
    "Here's a function that we will be using to apply exner's equation to the flux to find the places where deposition and erosion happen. "
   ]
  },
  {
   "cell_type": "code",
   "execution_count": null,
   "metadata": {},
   "outputs": [],
   "source": [
    "#Exner function\n",
    "def ExnerCalculator(X,Y,Uq,Vq,eps=1,dt=0.1):\n",
    "    \"\"\"\n",
    "    ExnerCalculator takes in the X and Y locations and the vector field defined by U and V and returns the\n",
    "    deposition/erosion happening at the current time.\n",
    "    \n",
    "    Parameters\n",
    "    ----------\n",
    "    X: matrix \n",
    "        x locations of the flux\n",
    "    Y: matrix \n",
    "        y locations of the flux\n",
    "    Uq: matrix \n",
    "        first components of the flux\n",
    "    Vq: matrix \n",
    "        second components of the flux\n",
    "    eps: float\n",
    "        1-porosity of the bed\n",
    "    dt: float\n",
    "        time delta for the method\n",
    "\n",
    "    Returns\n",
    "    -------\n",
    "    Xs: matrix \n",
    "        x locations with n-1 locations corresponding to dh\n",
    "    Ys: matrix \n",
    "        y locations with n-1 locations corresponding to dh\n",
    "    dh: matrix\n",
    "        The difference in elevation in dt time units based on the flux\n",
    "    \"\"\"\n",
    "    m,n=X.shape\n",
    "    dx=X[0][1]-X[0][0]\n",
    "    dy=Y[1][0]-Y[0][0]\n",
    "\n",
    "    #gradient\n",
    "    dUq=[ [Uq[j][i+1]-Uq[j][i] for i in range(n-1) ] for j in range(m-1) ]\n",
    "    dVq=[ [Vq[j+1][i]-Vq[j][i] for i in range(n-1) ] for j in range(m-1) ]\n",
    "    \n",
    "    #exner\n",
    "    dh=(-dt/eps)*(dUq/dx+dVq/dy)\n",
    "\n",
    "    #new Xs and Ys\n",
    "    Xs=np.array([ [X[j][i] for i in range(n-1) ] for j in range(m-1) ])\n",
    "    Ys=np.array([ [Y[j][i] for i in range(n-1) ] for j in range(m-1) ])\n",
    "\n",
    "    return Xs,Ys,dh"
   ]
  },
  {
   "cell_type": "markdown",
   "metadata": {},
   "source": [
    "And now we will pass our vector field to this function and plot the erosion/deposition heatmap $\\Delta \\eta$ "
   ]
  },
  {
   "cell_type": "code",
   "execution_count": null,
   "metadata": {},
   "outputs": [],
   "source": [
    "#use the function on the flux\n",
    "newx,newy,deltah=ExnerCalculator(X,Y,U,V)\n",
    "\n",
    "#plot the heatmap\n",
    "erosion=pd.DataFrame( {\"x\": newx.flatten() ,\"y\":newy.flatten(),\"erosion\": deltah.flatten()} )\n",
    "erosion_table=erosion.pivot_table(columns=\"x\",index=\"y\",values=\"erosion\")\n",
    "sns.heatmap(erosion_table,cmap=\"RdYlBu\")"
   ]
  },
  {
   "cell_type": "markdown",
   "metadata": {},
   "source": [
    "Now let's see it next to the quiver again"
   ]
  },
  {
   "cell_type": "code",
   "execution_count": null,
   "metadata": {},
   "outputs": [],
   "source": [
    "plt.figure()\n",
    "plt.quiver(X,Y,U,V)\n",
    "plt.show()"
   ]
  },
  {
   "cell_type": "markdown",
   "metadata": {},
   "source": [
    "***\n",
    "## Homework\n",
    "1. Plot the vector field $q=(U,V)$ in the domain from $-1<x<1$ and $-1<y<1$ given by\n",
    "     $$U=-X$$\n",
    "     $$V=-Y$$\n",
    "\n",
    "2. Use the `ExnerCalculator` function to display an erosional/deposition heatmap for the change in elevation $\\Delta \\eta$\n",
    "\n",
    "3. Given the data of the three variables $weight, height$ and $age$ below, find the correlation matrix between them and make a heatmap of the correlation matrix. (check the correlation example in __[here](https://python-graph-gallery.com/90-heatmaps-with-various-input-format)__  )\n",
    "\n",
    "4. Create a repository and put it up on your github."
   ]
  },
  {
   "cell_type": "code",
   "execution_count": null,
   "metadata": {},
   "outputs": [],
   "source": [
    "weight=[162.22, 156.12, 169.31, 179.76, 173.12, 165.66, 166.61, 170.91, 156.67, 170.94]\n",
    "height=[7.8954, 7.7507, 7.7312, 7.9815, 7.8738, 7.6802, 7.7422, 7.8297, 7.8992, 7.9033]\n",
    "age=[32, 33, 22, 45, 33, 49, 36, 20, 41, 25]"
   ]
  }
 ],
 "metadata": {
  "interpreter": {
   "hash": "135e24ee289c60ba69d5004678bf472a320b24bde767457479ce4e07bf7a1633"
  },
  "kernelspec": {
   "display_name": "Python 3",
   "language": "python",
   "name": "python3"
  },
  "language_info": {
   "codemirror_mode": {
    "name": "ipython",
    "version": 3
   },
   "file_extension": ".py",
   "mimetype": "text/x-python",
   "name": "python",
   "nbconvert_exporter": "python",
   "pygments_lexer": "ipython3",
   "version": "3.8.3"
  }
 },
 "nbformat": 4,
 "nbformat_minor": 2
}
